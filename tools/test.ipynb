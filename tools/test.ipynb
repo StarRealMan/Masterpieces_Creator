{
 "cells": [
  {
   "cell_type": "code",
   "execution_count": null,
   "metadata": {},
   "outputs": [],
   "source": [
    "import sys\n",
    "sys.path.append(\"..\")\n",
    "import os\n",
    "import torch\n",
    "import torch.nn.functional as F\n",
    "from tqdm import tqdm\n",
    "import numpy as np\n",
    "import cv2\n",
    "import matplotlib.pyplot as plt"
   ]
  },
  {
   "cell_type": "code",
   "execution_count": null,
   "metadata": {},
   "outputs": [],
   "source": [
    "import utils.dataset as mydataset\n",
    "import models.models as mymodel"
   ]
  },
  {
   "cell_type": "code",
   "execution_count": null,
   "metadata": {},
   "outputs": [],
   "source": [
    "arg_batchsize = 4\n",
    "arg_pretrainedModel_G_B = \"../models/model_G/final_model_G_B.pt\"\n",
    "arg_workers = 8\n",
    "arg_dataset = \"../data/\"\n",
    "arg_split = \"train\"\n",
    "arg_outputPath = \"../data/savings/output/\"\n",
    "arg_layer_depth = 24"
   ]
  },
  {
   "cell_type": "code",
   "execution_count": null,
   "metadata": {},
   "outputs": [],
   "source": [
    "random_photo_dataset = mydataset.Random_Photo_Dataset(\"../data/\", 256, arg_batchsize)\n",
    "\n",
    "model = mymodel.Generator(3, arg_layer_depth)\n",
    "model.load_state_dict(torch.load(arg_pretrainedModel_G_B))\n",
    "print(\"Use model from \" + arg_pretrainedModel_G_B)\n",
    "device = torch.device(\"cuda:0\" if torch.cuda.is_available() else \"cpu\")\n",
    "\n",
    "model.eval()\n",
    "model.to(device)\n",
    "\n",
    "if not os.path.exists(arg_outputPath):\n",
    "    os.makedirs(arg_outputPath)"
   ]
  },
  {
   "cell_type": "code",
   "execution_count": null,
   "metadata": {},
   "outputs": [],
   "source": [
    "with torch.no_grad():\n",
    "    photo_batch = random_photo_dataset.getRandomBatch()\n",
    "    monet = model(photo_batch)\n",
    "        \n",
    "plt.figure()\n",
    "gtmap_img = monet[0].cpu().numpy()\n",
    "plt.imshow(gtmap_img)"
   ]
  }
 ],
 "metadata": {
  "language_info": {
   "name": "python"
  },
  "orig_nbformat": 4
 },
 "nbformat": 4,
 "nbformat_minor": 2
}
